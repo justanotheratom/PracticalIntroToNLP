{
 "cells": [
  {
   "cell_type": "code",
   "execution_count": 17,
   "metadata": {},
   "outputs": [],
   "source": [
    "import pandas as pd\n",
    "import numpy as np\n",
    "import re\n",
    "from collections import Counter\n",
    "import math"
   ]
  },
  {
   "cell_type": "code",
   "execution_count": 2,
   "metadata": {},
   "outputs": [
    {
     "name": "stdout",
     "output_type": "stream",
     "text": [
      "Requirement already satisfied: textwrap3 in c:\\users\\sanke\\appdata\\local\\packages\\pythonsoftwarefoundation.python.3.11_qbz5n2kfra8p0\\localcache\\local-packages\\python311\\site-packages (0.9.2)\n"
     ]
    }
   ],
   "source": [
    "!pip install textwrap3\n",
    "\n",
    "from textwrap3 import wrap"
   ]
  },
  {
   "cell_type": "code",
   "execution_count": null,
   "metadata": {},
   "outputs": [],
   "source": [
    "!pip install nltk\n",
    "\n",
    "import nltk\n",
    "\n",
    "nltk.download('stopwords')"
   ]
  },
  {
   "cell_type": "code",
   "execution_count": 3,
   "metadata": {},
   "outputs": [
    {
     "name": "stdout",
     "output_type": "stream",
     "text": [
      "(3192, 4)\n"
     ]
    },
    {
     "data": {
      "text/html": [
       "<div>\n",
       "<style scoped>\n",
       "    .dataframe tbody tr th:only-of-type {\n",
       "        vertical-align: middle;\n",
       "    }\n",
       "\n",
       "    .dataframe tbody tr th {\n",
       "        vertical-align: top;\n",
       "    }\n",
       "\n",
       "    .dataframe thead th {\n",
       "        text-align: right;\n",
       "    }\n",
       "</style>\n",
       "<table border=\"1\" class=\"dataframe\">\n",
       "  <thead>\n",
       "    <tr style=\"text-align: right;\">\n",
       "      <th></th>\n",
       "      <th>Unnamed: 0</th>\n",
       "      <th>title</th>\n",
       "      <th>url</th>\n",
       "      <th>plot</th>\n",
       "    </tr>\n",
       "  </thead>\n",
       "  <tbody>\n",
       "    <tr>\n",
       "      <th>0</th>\n",
       "      <td>0</td>\n",
       "      <td>White Noise</td>\n",
       "      <td>https://en.wikipedia.org/wiki/White_Noise_(200...</td>\n",
       "      <td>\\nJonathan Rivers is an architect and lives wi...</td>\n",
       "    </tr>\n",
       "    <tr>\n",
       "      <th>1</th>\n",
       "      <td>1</td>\n",
       "      <td>Coach Carter</td>\n",
       "      <td>https://en.wikipedia.org/wiki/Coach_Carter</td>\n",
       "      <td>\\nKen Carter lives in Richmond, California. He...</td>\n",
       "    </tr>\n",
       "    <tr>\n",
       "      <th>2</th>\n",
       "      <td>2</td>\n",
       "      <td>Elektra</td>\n",
       "      <td>https://en.wikipedia.org/wiki/Elektra_(2005_film)</td>\n",
       "      <td>\\nAfter being killed in Daredevil, Elektra Nat...</td>\n",
       "    </tr>\n",
       "    <tr>\n",
       "      <th>3</th>\n",
       "      <td>3</td>\n",
       "      <td>Racing Stripes</td>\n",
       "      <td>https://en.wikipedia.org/wiki/Racing_Stripes</td>\n",
       "      <td>\\nDuring a thunderstorm, a traveling circus, C...</td>\n",
       "    </tr>\n",
       "    <tr>\n",
       "      <th>4</th>\n",
       "      <td>4</td>\n",
       "      <td>Tom and Jerry: Blast Off to Mars</td>\n",
       "      <td>https://en.wikipedia.org/wiki/Tom_and_Jerry:_B...</td>\n",
       "      <td>\\nTom (voiced by Bill Kopp) chases Jerry as us...</td>\n",
       "    </tr>\n",
       "  </tbody>\n",
       "</table>\n",
       "</div>"
      ],
      "text/plain": [
       "   Unnamed: 0                             title  \\\n",
       "0           0                       White Noise   \n",
       "1           1                      Coach Carter   \n",
       "2           2                           Elektra   \n",
       "3           3                    Racing Stripes   \n",
       "4           4  Tom and Jerry: Blast Off to Mars   \n",
       "\n",
       "                                                 url  \\\n",
       "0  https://en.wikipedia.org/wiki/White_Noise_(200...   \n",
       "1         https://en.wikipedia.org/wiki/Coach_Carter   \n",
       "2  https://en.wikipedia.org/wiki/Elektra_(2005_film)   \n",
       "3       https://en.wikipedia.org/wiki/Racing_Stripes   \n",
       "4  https://en.wikipedia.org/wiki/Tom_and_Jerry:_B...   \n",
       "\n",
       "                                                plot  \n",
       "0  \\nJonathan Rivers is an architect and lives wi...  \n",
       "1  \\nKen Carter lives in Richmond, California. He...  \n",
       "2  \\nAfter being killed in Daredevil, Elektra Nat...  \n",
       "3  \\nDuring a thunderstorm, a traveling circus, C...  \n",
       "4  \\nTom (voiced by Bill Kopp) chases Jerry as us...  "
      ]
     },
     "execution_count": 3,
     "metadata": {},
     "output_type": "execute_result"
    }
   ],
   "source": [
    "input_file_path = \"movie_plots.csv\"\n",
    "\n",
    "df = pd.read_csv(input_file_path)\n",
    "print (df.shape)\n",
    "df.head()"
   ]
  },
  {
   "cell_type": "code",
   "execution_count": 5,
   "metadata": {},
   "outputs": [
    {
     "data": {
      "text/html": [
       "<div>\n",
       "<style scoped>\n",
       "    .dataframe tbody tr th:only-of-type {\n",
       "        vertical-align: middle;\n",
       "    }\n",
       "\n",
       "    .dataframe tbody tr th {\n",
       "        vertical-align: top;\n",
       "    }\n",
       "\n",
       "    .dataframe thead th {\n",
       "        text-align: right;\n",
       "    }\n",
       "</style>\n",
       "<table border=\"1\" class=\"dataframe\">\n",
       "  <thead>\n",
       "    <tr style=\"text-align: right;\">\n",
       "      <th></th>\n",
       "      <th>Unnamed: 0</th>\n",
       "      <th>title</th>\n",
       "      <th>url</th>\n",
       "      <th>plot</th>\n",
       "    </tr>\n",
       "  </thead>\n",
       "  <tbody>\n",
       "    <tr>\n",
       "      <th>65</th>\n",
       "      <td>65</td>\n",
       "      <td>Batman Begins</td>\n",
       "      <td>https://en.wikipedia.org/wiki/Batman_Begins</td>\n",
       "      <td>\\nIn Gotham City, a young Bruce Wayne falls do...</td>\n",
       "    </tr>\n",
       "  </tbody>\n",
       "</table>\n",
       "</div>"
      ],
      "text/plain": [
       "    Unnamed: 0          title                                          url  \\\n",
       "65          65  Batman Begins  https://en.wikipedia.org/wiki/Batman_Begins   \n",
       "\n",
       "                                                 plot  \n",
       "65  \\nIn Gotham City, a young Bruce Wayne falls do...  "
      ]
     },
     "execution_count": 5,
     "metadata": {},
     "output_type": "execute_result"
    }
   ],
   "source": [
    "batmanbegins_df = df[df['title'].str.contains(\"Batman Begins\")]\n",
    "batmanbegins_df.head()"
   ]
  },
  {
   "cell_type": "code",
   "execution_count": null,
   "metadata": {},
   "outputs": [],
   "source": [
    "batmanbegins_plot = batmanbegins_df.iloc[0]['plot']\n",
    "batmanbegins_plot"
   ]
  },
  {
   "cell_type": "code",
   "execution_count": null,
   "metadata": {},
   "outputs": [],
   "source": [
    "for line in wrap(batmanbegins_plot, 140):\n",
    "    print(line)"
   ]
  },
  {
   "cell_type": "code",
   "execution_count": null,
   "metadata": {},
   "outputs": [],
   "source": [
    "word_list = re.findall(r\"[\\w']+\", batmanbegins_plot)\n",
    "print(word_list)"
   ]
  },
  {
   "cell_type": "code",
   "execution_count": 25,
   "metadata": {},
   "outputs": [
    {
     "name": "stdout",
     "output_type": "stream",
     "text": [
      "[('the', 32), ('a', 28), ('and', 28), ('to', 26), ('him', 16), ('Bruce', 14), ('of', 12), ('his', 12), ('Batman', 12), ('by', 11)]\n"
     ]
    }
   ],
   "source": [
    "word_counts = Counter(word_list)\n",
    "print(word_counts.most_common(10))"
   ]
  },
  {
   "cell_type": "code",
   "execution_count": 32,
   "metadata": {},
   "outputs": [],
   "source": [
    "stopwords = set(nltk.corpus.stopwords.words(\"english\"))"
   ]
  },
  {
   "cell_type": "code",
   "execution_count": null,
   "metadata": {},
   "outputs": [],
   "source": [
    "[w.lower() for w in word_list if w.lower() not in stopwords]"
   ]
  },
  {
   "cell_type": "code",
   "execution_count": null,
   "metadata": {},
   "outputs": [],
   "source": [
    "word_tf = { k : v / len(word_list) for k, v in word_counts.items() }\n",
    "word_tf"
   ]
  },
  {
   "cell_type": "code",
   "execution_count": 37,
   "metadata": {},
   "outputs": [
    {
     "name": "stderr",
     "output_type": "stream",
     "text": [
      "[nltk_data] Downloading package punkt to\n",
      "[nltk_data]     C:\\Users\\sanke\\AppData\\Roaming\\nltk_data...\n",
      "[nltk_data]   Package punkt is already up-to-date!\n"
     ]
    }
   ],
   "source": [
    "nltk.download('punkt')\n",
    "from nltk.tokenize import word_tokenize\n",
    "from nltk.util import ngrams"
   ]
  },
  {
   "cell_type": "code",
   "execution_count": 43,
   "metadata": {},
   "outputs": [
    {
     "name": "stdout",
     "output_type": "stream",
     "text": [
      "['Elon', 'Musk', 'in', 'recent', 'months', 'often', 'tweeted', 'for', 'Dodgecoin', ',', 'but', 'rarely', 'for', 'Bitcoin']\n",
      "['Elon Musk', 'Musk in', 'in recent', 'recent months', 'months often', 'often tweeted', 'tweeted for', 'for Dodgecoin', 'Dodgecoin ,', ', but', 'but rarely', 'rarely for', 'for Bitcoin']\n",
      "['Elon Musk in', 'Musk in recent', 'in recent months', 'recent months often', 'months often tweeted', 'often tweeted for', 'tweeted for Dodgecoin', 'for Dodgecoin ,', 'Dodgecoin , but', ', but rarely', 'but rarely for', 'rarely for Bitcoin']\n"
     ]
    }
   ],
   "source": [
    "sample_sentence = \"Elon Musk in recent months often tweeted for Dodgecoin, but rarely for Bitcoin\"\n",
    "\n",
    "tokenized_words = word_tokenize(sample_sentence)\n",
    "print(tokenized_words)\n",
    "\n",
    "bigrams = ngrams(tokenized_words, 2)\n",
    "bigrams = [ ' '.join(grams) for grams in bigrams]\n",
    "print(bigrams)\n",
    "\n",
    "trigrams = ngrams(tokenized_words, 3)\n",
    "trigrams = [ ' '.join(grams) for grams in trigrams]\n",
    "print(trigrams)"
   ]
  },
  {
   "cell_type": "code",
   "execution_count": 44,
   "metadata": {},
   "outputs": [],
   "source": [
    "def get_term_frequency(input):\n",
    "    tokenized_words = word_tokenize(input)\n",
    "    cleaned_words = [w.lower() for w in tokenized_words if w.lower() not in stopwords]\n",
    "    word_counts = Counter(cleaned_words)\n",
    "    return  { k : float(\"{:.5f}\".format(v / len(tokenized_words))) for k, v in word_counts.items() }"
   ]
  },
  {
   "cell_type": "code",
   "execution_count": null,
   "metadata": {},
   "outputs": [],
   "source": [
    "get_term_frequency(batmanbegins_plot)"
   ]
  },
  {
   "cell_type": "code",
   "execution_count": 46,
   "metadata": {},
   "outputs": [
    {
     "data": {
      "text/html": [
       "<div>\n",
       "<style scoped>\n",
       "    .dataframe tbody tr th:only-of-type {\n",
       "        vertical-align: middle;\n",
       "    }\n",
       "\n",
       "    .dataframe tbody tr th {\n",
       "        vertical-align: top;\n",
       "    }\n",
       "\n",
       "    .dataframe thead th {\n",
       "        text-align: right;\n",
       "    }\n",
       "</style>\n",
       "<table border=\"1\" class=\"dataframe\">\n",
       "  <thead>\n",
       "    <tr style=\"text-align: right;\">\n",
       "      <th></th>\n",
       "      <th>Unnamed: 0</th>\n",
       "      <th>title</th>\n",
       "      <th>url</th>\n",
       "      <th>plot</th>\n",
       "    </tr>\n",
       "  </thead>\n",
       "  <tbody>\n",
       "    <tr>\n",
       "      <th>0</th>\n",
       "      <td>0</td>\n",
       "      <td>White Noise</td>\n",
       "      <td>https://en.wikipedia.org/wiki/White_Noise_(200...</td>\n",
       "      <td>\\nJonathan Rivers is an architect and lives wi...</td>\n",
       "    </tr>\n",
       "    <tr>\n",
       "      <th>1</th>\n",
       "      <td>1</td>\n",
       "      <td>Coach Carter</td>\n",
       "      <td>https://en.wikipedia.org/wiki/Coach_Carter</td>\n",
       "      <td>\\nKen Carter lives in Richmond, California. He...</td>\n",
       "    </tr>\n",
       "    <tr>\n",
       "      <th>2</th>\n",
       "      <td>2</td>\n",
       "      <td>Elektra</td>\n",
       "      <td>https://en.wikipedia.org/wiki/Elektra_(2005_film)</td>\n",
       "      <td>\\nAfter being killed in Daredevil, Elektra Nat...</td>\n",
       "    </tr>\n",
       "    <tr>\n",
       "      <th>3</th>\n",
       "      <td>3</td>\n",
       "      <td>Racing Stripes</td>\n",
       "      <td>https://en.wikipedia.org/wiki/Racing_Stripes</td>\n",
       "      <td>\\nDuring a thunderstorm, a traveling circus, C...</td>\n",
       "    </tr>\n",
       "    <tr>\n",
       "      <th>4</th>\n",
       "      <td>4</td>\n",
       "      <td>Tom and Jerry: Blast Off to Mars</td>\n",
       "      <td>https://en.wikipedia.org/wiki/Tom_and_Jerry:_B...</td>\n",
       "      <td>\\nTom (voiced by Bill Kopp) chases Jerry as us...</td>\n",
       "    </tr>\n",
       "  </tbody>\n",
       "</table>\n",
       "</div>"
      ],
      "text/plain": [
       "   Unnamed: 0                             title  \\\n",
       "0           0                       White Noise   \n",
       "1           1                      Coach Carter   \n",
       "2           2                           Elektra   \n",
       "3           3                    Racing Stripes   \n",
       "4           4  Tom and Jerry: Blast Off to Mars   \n",
       "\n",
       "                                                 url  \\\n",
       "0  https://en.wikipedia.org/wiki/White_Noise_(200...   \n",
       "1         https://en.wikipedia.org/wiki/Coach_Carter   \n",
       "2  https://en.wikipedia.org/wiki/Elektra_(2005_film)   \n",
       "3       https://en.wikipedia.org/wiki/Racing_Stripes   \n",
       "4  https://en.wikipedia.org/wiki/Tom_and_Jerry:_B...   \n",
       "\n",
       "                                                plot  \n",
       "0  \\nJonathan Rivers is an architect and lives wi...  \n",
       "1  \\nKen Carter lives in Richmond, California. He...  \n",
       "2  \\nAfter being killed in Daredevil, Elektra Nat...  \n",
       "3  \\nDuring a thunderstorm, a traveling circus, C...  \n",
       "4  \\nTom (voiced by Bill Kopp) chases Jerry as us...  "
      ]
     },
     "execution_count": 46,
     "metadata": {},
     "output_type": "execute_result"
    }
   ],
   "source": [
    "df.head()"
   ]
  },
  {
   "cell_type": "code",
   "execution_count": 47,
   "metadata": {},
   "outputs": [],
   "source": [
    "df['TF'] = df.apply(lambda row: get_term_frequency(row['plot']), axis=1)"
   ]
  },
  {
   "cell_type": "code",
   "execution_count": 50,
   "metadata": {},
   "outputs": [
    {
     "data": {
      "text/plain": [
       "(3192, 5)"
      ]
     },
     "execution_count": 50,
     "metadata": {},
     "output_type": "execute_result"
    }
   ],
   "source": [
    "df.shape"
   ]
  },
  {
   "cell_type": "code",
   "execution_count": 52,
   "metadata": {},
   "outputs": [
    {
     "name": "stdout",
     "output_type": "stream",
     "text": [
      "['jonathan', 'rivers', 'architect', 'lives', 'wife']\n",
      "['ken', 'carter', 'lives', 'richmond', ',']\n",
      "['killed', 'daredevil', ',', 'elektra', 'natchios']\n",
      "['thunderstorm', ',', 'traveling', 'circus', 'sarano']\n",
      "['tom', '(', 'voiced', 'bill', 'kopp']\n",
      "['two', 'rebellious', 'children', ',', 'lindsey']\n"
     ]
    }
   ],
   "source": [
    "for index, row in df.iterrows():\n",
    "    print(list(row['TF'].keys())[:5])\n",
    "    if index == 5:\n",
    "        break"
   ]
  },
  {
   "cell_type": "code",
   "execution_count": 54,
   "metadata": {},
   "outputs": [
    {
     "name": "stdout",
     "output_type": "stream",
     "text": [
      "(3178, 5)\n",
      "(3178, 5)\n"
     ]
    }
   ],
   "source": [
    "print(df.shape)\n",
    "df.drop_duplicates(subset=['url'], inplace=True, keep=False)\n",
    "print(df.shape)"
   ]
  },
  {
   "cell_type": "code",
   "execution_count": 55,
   "metadata": {},
   "outputs": [
    {
     "name": "stdout",
     "output_type": "stream",
     "text": [
      "Movie Name: Batman Begins https://en.wikipedia.org/wiki/Batman_Begins\n",
      "Movie Name: The Batman vs. Dracula https://en.wikipedia.org/wiki/The_Batman_vs._Dracula\n",
      "Movie Name: The Dark Knight https://en.wikipedia.org/wiki/The_Dark_Knight\n",
      "Movie Name: Suicide Squad https://en.wikipedia.org/wiki/Suicide_Squad_(film)\n",
      "Movie Name: The Lego Batman Movie https://en.wikipedia.org/wiki/The_Lego_Batman_Movie\n",
      "Movie Name: Joker https://en.wikipedia.org/wiki/Joker_(2019_film)\n",
      "Movie Name: Birds of Prey https://en.wikipedia.org/wiki/Birds_of_Prey_(2020_film)\n",
      "Document Count: 7\n",
      "Total documents: 3178\n"
     ]
    }
   ],
   "source": [
    "test_word = \"gotham\"\n",
    "\n",
    "doc_count = 0\n",
    "for index, row in df.iterrows():\n",
    "    if test_word in row['TF']:\n",
    "        doc_count += 1\n",
    "        print(f\"Movie Name: {row['title']} {row['url']}\")\n",
    "print(f\"Document Count: {doc_count}\")\n",
    "print(f\"Total documents: {df.shape[0]}\")"
   ]
  },
  {
   "cell_type": "code",
   "execution_count": 62,
   "metadata": {},
   "outputs": [],
   "source": [
    "def get_idf(word, df):\n",
    "    doc_count = 0\n",
    "    for index, row in df.iterrows():\n",
    "        if word in row['TF']:\n",
    "            doc_count += 1\n",
    "    idf = math.log10((df.shape[0] + 1) / (doc_count + 1)) + 1\n",
    "    return idf\n",
    "    "
   ]
  },
  {
   "cell_type": "code",
   "execution_count": 63,
   "metadata": {},
   "outputs": [
    {
     "data": {
      "text/plain": [
       "3.5992005409228294"
      ]
     },
     "execution_count": 63,
     "metadata": {},
     "output_type": "execute_result"
    }
   ],
   "source": [
    "get_idf(\"gotham\", df)"
   ]
  },
  {
   "cell_type": "code",
   "execution_count": 72,
   "metadata": {},
   "outputs": [
    {
     "name": "stdout",
     "output_type": "stream",
     "text": [
      "Words: 730054, Distinct Words: 51716\n"
     ]
    }
   ],
   "source": [
    "word_list_by_plot_dict = df['TF'].tolist()\n",
    "word_list_by_plot = [list(x.keys()) for x in word_list_by_plot_dict]\n",
    "word_list_by_plot = [list(set(sublist)) for sublist in word_list_by_plot]\n",
    "word_list_all = [item for sublist in word_list_by_plot for item in sublist]\n",
    "word_list_all_distinct = list(set(word_list_all))\n",
    "\n",
    "print(f\"Words: {len(word_list_all)}, Distinct Words: {len(word_list_all_distinct)}\")"
   ]
  },
  {
   "cell_type": "code",
   "execution_count": null,
   "metadata": {},
   "outputs": [],
   "source": [
    "idf_dict = {}\n",
    "for word in word_list_all_distinct:\n",
    "    idf_dict[word] = get_idf(word, df)"
   ]
  },
  {
   "cell_type": "code",
   "execution_count": null,
   "metadata": {},
   "outputs": [],
   "source": [
    "!pip install -U scikit-learn\n",
    "\n",
    "from sklearn.feature_extraction.text import TfidfVectorizer\n",
    "import pandas as pd"
   ]
  },
  {
   "cell_type": "code",
   "execution_count": 6,
   "metadata": {},
   "outputs": [
    {
     "data": {
      "text/html": [
       "<style>#sk-container-id-1 {color: black;background-color: white;}#sk-container-id-1 pre{padding: 0;}#sk-container-id-1 div.sk-toggleable {background-color: white;}#sk-container-id-1 label.sk-toggleable__label {cursor: pointer;display: block;width: 100%;margin-bottom: 0;padding: 0.3em;box-sizing: border-box;text-align: center;}#sk-container-id-1 label.sk-toggleable__label-arrow:before {content: \"▸\";float: left;margin-right: 0.25em;color: #696969;}#sk-container-id-1 label.sk-toggleable__label-arrow:hover:before {color: black;}#sk-container-id-1 div.sk-estimator:hover label.sk-toggleable__label-arrow:before {color: black;}#sk-container-id-1 div.sk-toggleable__content {max-height: 0;max-width: 0;overflow: hidden;text-align: left;background-color: #f0f8ff;}#sk-container-id-1 div.sk-toggleable__content pre {margin: 0.2em;color: black;border-radius: 0.25em;background-color: #f0f8ff;}#sk-container-id-1 input.sk-toggleable__control:checked~div.sk-toggleable__content {max-height: 200px;max-width: 100%;overflow: auto;}#sk-container-id-1 input.sk-toggleable__control:checked~label.sk-toggleable__label-arrow:before {content: \"▾\";}#sk-container-id-1 div.sk-estimator input.sk-toggleable__control:checked~label.sk-toggleable__label {background-color: #d4ebff;}#sk-container-id-1 div.sk-label input.sk-toggleable__control:checked~label.sk-toggleable__label {background-color: #d4ebff;}#sk-container-id-1 input.sk-hidden--visually {border: 0;clip: rect(1px 1px 1px 1px);clip: rect(1px, 1px, 1px, 1px);height: 1px;margin: -1px;overflow: hidden;padding: 0;position: absolute;width: 1px;}#sk-container-id-1 div.sk-estimator {font-family: monospace;background-color: #f0f8ff;border: 1px dotted black;border-radius: 0.25em;box-sizing: border-box;margin-bottom: 0.5em;}#sk-container-id-1 div.sk-estimator:hover {background-color: #d4ebff;}#sk-container-id-1 div.sk-parallel-item::after {content: \"\";width: 100%;border-bottom: 1px solid gray;flex-grow: 1;}#sk-container-id-1 div.sk-label:hover label.sk-toggleable__label {background-color: #d4ebff;}#sk-container-id-1 div.sk-serial::before {content: \"\";position: absolute;border-left: 1px solid gray;box-sizing: border-box;top: 0;bottom: 0;left: 50%;z-index: 0;}#sk-container-id-1 div.sk-serial {display: flex;flex-direction: column;align-items: center;background-color: white;padding-right: 0.2em;padding-left: 0.2em;position: relative;}#sk-container-id-1 div.sk-item {position: relative;z-index: 1;}#sk-container-id-1 div.sk-parallel {display: flex;align-items: stretch;justify-content: center;background-color: white;position: relative;}#sk-container-id-1 div.sk-item::before, #sk-container-id-1 div.sk-parallel-item::before {content: \"\";position: absolute;border-left: 1px solid gray;box-sizing: border-box;top: 0;bottom: 0;left: 50%;z-index: -1;}#sk-container-id-1 div.sk-parallel-item {display: flex;flex-direction: column;z-index: 1;position: relative;background-color: white;}#sk-container-id-1 div.sk-parallel-item:first-child::after {align-self: flex-end;width: 50%;}#sk-container-id-1 div.sk-parallel-item:last-child::after {align-self: flex-start;width: 50%;}#sk-container-id-1 div.sk-parallel-item:only-child::after {width: 0;}#sk-container-id-1 div.sk-dashed-wrapped {border: 1px dashed gray;margin: 0 0.4em 0.5em 0.4em;box-sizing: border-box;padding-bottom: 0.4em;background-color: white;}#sk-container-id-1 div.sk-label label {font-family: monospace;font-weight: bold;display: inline-block;line-height: 1.2em;}#sk-container-id-1 div.sk-label-container {text-align: center;}#sk-container-id-1 div.sk-container {/* jupyter's `normalize.less` sets `[hidden] { display: none; }` but bootstrap.min.css set `[hidden] { display: none !important; }` so we also need the `!important` here to be able to override the default hidden behavior on the sphinx rendered scikit-learn.org. See: https://github.com/scikit-learn/scikit-learn/issues/21755 */display: inline-block !important;position: relative;}#sk-container-id-1 div.sk-text-repr-fallback {display: none;}</style><div id=\"sk-container-id-1\" class=\"sk-top-container\"><div class=\"sk-text-repr-fallback\"><pre>TfidfVectorizer(stop_words=&#x27;english&#x27;)</pre><b>In a Jupyter environment, please rerun this cell to show the HTML representation or trust the notebook. <br />On GitHub, the HTML representation is unable to render, please try loading this page with nbviewer.org.</b></div><div class=\"sk-container\" hidden><div class=\"sk-item\"><div class=\"sk-estimator sk-toggleable\"><input class=\"sk-toggleable__control sk-hidden--visually\" id=\"sk-estimator-id-1\" type=\"checkbox\" checked><label for=\"sk-estimator-id-1\" class=\"sk-toggleable__label sk-toggleable__label-arrow\">TfidfVectorizer</label><div class=\"sk-toggleable__content\"><pre>TfidfVectorizer(stop_words=&#x27;english&#x27;)</pre></div></div></div></div></div>"
      ],
      "text/plain": [
       "TfidfVectorizer(stop_words='english')"
      ]
     },
     "execution_count": 6,
     "metadata": {},
     "output_type": "execute_result"
    }
   ],
   "source": [
    "tfidfvectorizer = TfidfVectorizer(analyzer='word', stop_words='english')\n",
    "tfidfvectorizer.fit(df['plot'])"
   ]
  },
  {
   "cell_type": "code",
   "execution_count": 7,
   "metadata": {},
   "outputs": [
    {
     "name": "stdout",
     "output_type": "stream",
     "text": [
      "46302\n",
      "['00', '000', '000th', '001', '003', '0054', '007', '04', '05', '060']\n"
     ]
    },
    {
     "name": "stderr",
     "output_type": "stream",
     "text": [
      "C:\\Users\\sanke\\AppData\\Local\\Packages\\PythonSoftwareFoundation.Python.3.11_qbz5n2kfra8p0\\LocalCache\\local-packages\\Python311\\site-packages\\sklearn\\utils\\deprecation.py:87: FutureWarning: Function get_feature_names is deprecated; get_feature_names is deprecated in 1.0 and will be removed in 1.2. Please use get_feature_names_out instead.\n",
      "  warnings.warn(msg, category=FutureWarning)\n"
     ]
    }
   ],
   "source": [
    "feature_names = tfidfvectorizer.get_feature_names()\n",
    "print(len(feature_names))\n",
    "print(feature_names[:10])"
   ]
  },
  {
   "cell_type": "code",
   "execution_count": 9,
   "metadata": {},
   "outputs": [
    {
     "name": "stdout",
     "output_type": "stream",
     "text": [
      "[6.17834443 3.55932786 7.9701039  ... 8.37556901 8.37556901 8.37556901]\n"
     ]
    },
    {
     "data": {
      "text/plain": [
       "(46302,)"
      ]
     },
     "execution_count": 9,
     "metadata": {},
     "output_type": "execute_result"
    }
   ],
   "source": [
    "print(tfidfvectorizer.idf_)\n",
    "tfidfvectorizer.idf_.shape"
   ]
  },
  {
   "cell_type": "code",
   "execution_count": 43,
   "metadata": {},
   "outputs": [],
   "source": [
    "tfidf = tfidfvectorizer.transform(df['plot'])"
   ]
  },
  {
   "cell_type": "code",
   "execution_count": 44,
   "metadata": {},
   "outputs": [
    {
     "data": {
      "text/plain": [
       "(3192, 46302)"
      ]
     },
     "execution_count": 44,
     "metadata": {},
     "output_type": "execute_result"
    }
   ],
   "source": [
    "tfidf.shape"
   ]
  },
  {
   "cell_type": "code",
   "execution_count": null,
   "metadata": {},
   "outputs": [],
   "source": [
    "tfidf_df = pd.DataFrame(tfidf.toarray(), columns=feature_names)\n",
    "tfidf_df.head(20)"
   ]
  },
  {
   "cell_type": "markdown",
   "metadata": {},
   "source": [
    "Extract Keywords"
   ]
  },
  {
   "cell_type": "code",
   "execution_count": 18,
   "metadata": {},
   "outputs": [],
   "source": [
    "movie_df = df[df['title'].str.contains(\"V for Vendetta\")]\n",
    "movie_plot = movie_df.iloc[0]['plot']\n",
    "movie_tfidf = tfidfvectorizer.transform([movie_plot])"
   ]
  },
  {
   "cell_type": "code",
   "execution_count": 32,
   "metadata": {},
   "outputs": [
    {
     "name": "stdout",
     "output_type": "stream",
     "text": [
      "['00' '000' '000th' ... 'пре' 'рођења' 'умро']\n",
      "[0. 0. 0. ... 0. 0. 0.]\n",
      "[14407 28642  9747 ... 30817 30816     0]\n",
      "['evey' 'norsefire' 'creedy' ... 'pete' 'petar' '00']\n",
      "[0.64167446 0.27500334 0.27500334 ... 0.         0.         0.        ]\n"
     ]
    }
   ],
   "source": [
    "movie_tfidf_array = movie_tfidf.toarray()\n",
    "feature_array = np.array(feature_names)\n",
    "\n",
    "print(feature_array)\n",
    "print(movie_tfidf_array.flatten())\n",
    "\n",
    "sorted_indices = np.argsort(movie_tfidf_array.flatten())[::-1]\n",
    "print(sorted_indices)\n",
    "\n",
    "feature_sorted = feature_array[sorted_indices]\n",
    "print(feature_sorted)\n",
    "\n",
    "movie_tfidf_sorted = movie_tfidf_array.flatten()[sorted_indices]\n",
    "print(movie_tfidf_sorted)"
   ]
  },
  {
   "cell_type": "code",
   "execution_count": 34,
   "metadata": {},
   "outputs": [],
   "source": [
    "batmanbegins_df = df[df['title'].str.contains(\"Batman Begins\")]\n",
    "batmanbegins_plot = batmanbegins_df.iloc[0]['plot']"
   ]
  },
  {
   "cell_type": "code",
   "execution_count": 36,
   "metadata": {},
   "outputs": [],
   "source": [
    "from nltk.tokenize import sent_tokenize\n",
    "\n",
    "sentences = sent_tokenize(batmanbegins_plot)\n",
    "sentences_tfidf = tfidfvectorizer.transform(sentences).toarray()"
   ]
  },
  {
   "cell_type": "code",
   "execution_count": null,
   "metadata": {},
   "outputs": [],
   "source": [
    "sentence_and_score_array = []\n",
    "for tfidf, sentence in zip(sentences_tfidf, sentences):\n",
    "    indices = np.nonzero(tfidf)[0]\n",
    "    scores = tfidf[indices]\n",
    "    length = len(sentence.split())\n",
    "    avg_score = scores.sum() / length\n",
    "    sentence_and_score_array.append((avg_score, sentence))\n",
    "\n",
    "sorted_sentence_scores = sorted(sentence_and_score_array, key=lambda x: x[0], reverse=True)\n",
    "\n",
    "sorted_sentence_scores\n"
   ]
  },
  {
   "cell_type": "markdown",
   "metadata": {},
   "source": [
    "Similarity Search"
   ]
  },
  {
   "cell_type": "code",
   "execution_count": 45,
   "metadata": {},
   "outputs": [
    {
     "data": {
      "text/plain": [
       "65"
      ]
     },
     "execution_count": 45,
     "metadata": {},
     "output_type": "execute_result"
    }
   ],
   "source": [
    "index = batmanbegins_df.iloc[0][0]\n",
    "index"
   ]
  },
  {
   "cell_type": "code",
   "execution_count": 46,
   "metadata": {},
   "outputs": [
    {
     "data": {
      "text/plain": [
       "<1x46302 sparse matrix of type '<class 'numpy.float64'>'\n",
       "\twith 286 stored elements in Compressed Sparse Row format>"
      ]
     },
     "execution_count": 46,
     "metadata": {},
     "output_type": "execute_result"
    }
   ],
   "source": [
    "search_vec = tfidf[index]\n",
    "search_vec"
   ]
  },
  {
   "cell_type": "code",
   "execution_count": 48,
   "metadata": {},
   "outputs": [
    {
     "data": {
      "text/plain": [
       "array([0.020465  , 0.00910681, 0.00778492, ..., 0.0143591 , 0.01072224,\n",
       "       0.00937173])"
      ]
     },
     "execution_count": 48,
     "metadata": {},
     "output_type": "execute_result"
    }
   ],
   "source": [
    "from sklearn.metrics.pairwise import linear_kernel\n",
    "\n",
    "cosine_similarities = linear_kernel(search_vec, tfidf).flatten()\n",
    "\n",
    "cosine_similarities"
   ]
  },
  {
   "cell_type": "code",
   "execution_count": 50,
   "metadata": {},
   "outputs": [
    {
     "name": "stdout",
     "output_type": "stream",
     "text": [
      "[65, 677, 2033, 128, 1942, 1860, 1983, 1747, 2371, 1275]\n"
     ]
    }
   ],
   "source": [
    "related_docs_indices = cosine_similarities.argsort()[::-1]\n",
    "related_docs_indices = list(related_docs_indices)[:10]\n",
    "print(related_docs_indices)"
   ]
  },
  {
   "cell_type": "code",
   "execution_count": 52,
   "metadata": {},
   "outputs": [
    {
     "name": "stdout",
     "output_type": "stream",
     "text": [
      "Batman Begins\n",
      "The Dark Knight\n",
      "The Lego Batman Movie\n",
      "The Batman vs. Dracula\n",
      "Batman: The Killing Joke\n",
      "I Smile Back\n",
      "I'm Not Ashamed\n",
      "Road Hard\n",
      "Crazy Rich Asians\n",
      "A Dark Truth\n"
     ]
    }
   ],
   "source": [
    "for i in related_docs_indices:\n",
    "    print(f\"{df.iloc[i]['title']}\")"
   ]
  }
 ],
 "metadata": {
  "kernelspec": {
   "display_name": "Python 3.11.0 64-bit (microsoft store)",
   "language": "python",
   "name": "python3"
  },
  "language_info": {
   "codemirror_mode": {
    "name": "ipython",
    "version": 3
   },
   "file_extension": ".py",
   "mimetype": "text/x-python",
   "name": "python",
   "nbconvert_exporter": "python",
   "pygments_lexer": "ipython3",
   "version": "3.11.0"
  },
  "orig_nbformat": 4,
  "vscode": {
   "interpreter": {
    "hash": "f05afbc3ff47b618847d79d847ca5bb1fcfacb97bd6d83e844df540564daf03c"
   }
  }
 },
 "nbformat": 4,
 "nbformat_minor": 2
}
