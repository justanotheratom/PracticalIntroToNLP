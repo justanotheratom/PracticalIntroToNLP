{
 "cells": [
  {
   "cell_type": "markdown",
   "metadata": {},
   "source": [
    "https://en.wikipedia.org/wiki/Category:Lists_of_American_films_by_year"
   ]
  },
  {
   "cell_type": "code",
   "execution_count": 1,
   "metadata": {},
   "outputs": [],
   "source": [
    "american_movies_by_year_link_base = 'https://en.wikipedia.org/wiki/List_of_American_films_of_'\n",
    "\n",
    "american_movies_by_year_links = [american_movies_by_year_link_base + str(year) for year in range(2005, 2022)]"
   ]
  },
  {
   "cell_type": "code",
   "execution_count": 19,
   "metadata": {},
   "outputs": [],
   "source": [
    "import requests\n",
    "import urllib.request\n",
    "import time\n",
    "import re\n",
    "from bs4 import BeautifulSoup\n",
    "import numpy as np\n",
    "import pandas as pd\n",
    "from urllib.request import urlopen\n",
    "from tqdm import tqdm"
   ]
  },
  {
   "cell_type": "code",
   "execution_count": 42,
   "metadata": {},
   "outputs": [],
   "source": [
    "def get_movie_titles_and_urls_for_year(year):\n",
    "    url = american_movies_by_year_link_base + str(year)\n",
    "    html = urlopen(url)\n",
    "    soup = BeautifulSoup(html, 'html5lib')\n",
    "\n",
    "    all_movie_titles = []\n",
    "    all_movie_urls = []\n",
    "    error_count = 0\n",
    "\n",
    "    tables = soup.find_all('table', class_='wikitable')\n",
    "    for table in tables:\n",
    "        all_headers = [ th.text.replace(\"\\n\", \"\") for th in table.find_all(\"th\")]\n",
    "        if 'Title' in all_headers and 'Production company' in all_headers:\n",
    "            rows = table.tbody.find_all('tr')\n",
    "            for row in rows[1:]:\n",
    "                try:\n",
    "                    title = row.find_all('i')[0].a\n",
    "                    url = 'https://en.wikipedia.org' + title['href']\n",
    "                    all_movie_urls.append(url)\n",
    "                    all_movie_titles.append(title.text)\n",
    "                except:\n",
    "                    error_count += 1\n",
    "                    pass\n",
    "\n",
    "    return all_movie_titles, all_movie_urls, error_count\n",
    "\n",
    "def get_plot_data(movie_page_url):\n",
    "    html = urlopen(movie_page_url)\n",
    "    soup = BeautifulSoup(html, 'html5lib')\n",
    "    try:\n",
    "        sibling_element = soup.find(id='Plot').find_parent('h2').find_next_sibling()\n",
    "        plot = ''\n",
    "        while sibling_element.name == 'p':\n",
    "            plot = plot + \"\\n\" + sibling_element.text\n",
    "            sibling_element = sibling_element.find_next_sibling()\n",
    "        return None if plot == '' else plot\n",
    "    except:\n",
    "        return None\n"
   ]
  },
  {
   "cell_type": "code",
   "execution_count": 43,
   "metadata": {},
   "outputs": [
    {
     "name": "stdout",
     "output_type": "stream",
     "text": [
      "Collecting movie titles and urls...\n"
     ]
    },
    {
     "name": "stderr",
     "output_type": "stream",
     "text": [
      "100%|██████████| 17/17 [00:18<00:00,  1.06s/it]\n"
     ]
    }
   ],
   "source": [
    "all_movie_titles = []\n",
    "all_movie_urls = []\n",
    "total_error_count = 0\n",
    "\n",
    "print('Collecting movie titles and urls...')\n",
    "\n",
    "for year in tqdm(range(2005, 2022)):\n",
    "    movie_titles, movie_urls, error_count = get_movie_titles_and_urls_for_year(year)\n",
    "    all_movie_titles.extend(movie_titles)\n",
    "    all_movie_urls.extend(movie_urls)\n",
    "    total_error_count += error_count\n",
    "    #print(f'Year: {year}, Total Movies: {len(movie_titles)}, Total Errors: {error_count}')\n"
   ]
  },
  {
   "cell_type": "code",
   "execution_count": 44,
   "metadata": {},
   "outputs": [
    {
     "name": "stdout",
     "output_type": "stream",
     "text": [
      "Collecting movie plots...\n"
     ]
    },
    {
     "name": "stderr",
     "output_type": "stream",
     "text": [
      "3709it [1:08:13,  1.10s/it]\n"
     ]
    }
   ],
   "source": [
    "\n",
    "final_data = []\n",
    "\n",
    "print('Collecting movie plots...')\n",
    "\n",
    "for movie_title, movie_url in tqdm(zip(all_movie_titles, all_movie_urls)):\n",
    "    plot = get_plot_data(movie_url)\n",
    "    if plot is not None:\n",
    "        final_data.append([movie_title, movie_url, plot])"
   ]
  },
  {
   "cell_type": "code",
   "execution_count": 46,
   "metadata": {},
   "outputs": [
    {
     "data": {
      "text/plain": [
       "(3192, 3)"
      ]
     },
     "execution_count": 46,
     "metadata": {},
     "output_type": "execute_result"
    }
   ],
   "source": [
    "df = pd.DataFrame(final_data, columns=['title', 'url', 'plot'])\n",
    "df.shape"
   ]
  },
  {
   "cell_type": "code",
   "execution_count": null,
   "metadata": {},
   "outputs": [],
   "source": [
    "file_path = 'movie_plots.csv'\n",
    "df.to_csv(file_path)"
   ]
  }
 ],
 "metadata": {
  "kernelspec": {
   "display_name": "Python 3.11.0 64-bit (microsoft store)",
   "language": "python",
   "name": "python3"
  },
  "language_info": {
   "codemirror_mode": {
    "name": "ipython",
    "version": 3
   },
   "file_extension": ".py",
   "mimetype": "text/x-python",
   "name": "python",
   "nbconvert_exporter": "python",
   "pygments_lexer": "ipython3",
   "version": "3.11.0"
  },
  "orig_nbformat": 4,
  "vscode": {
   "interpreter": {
    "hash": "f05afbc3ff47b618847d79d847ca5bb1fcfacb97bd6d83e844df540564daf03c"
   }
  }
 },
 "nbformat": 4,
 "nbformat_minor": 2
}
